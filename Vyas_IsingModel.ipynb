{
 "cells": [
  {
   "cell_type": "markdown",
   "metadata": {},
   "source": [
    "# Monte Carlo Simulation of the Ising Model"
   ]
  },
  {
   "cell_type": "markdown",
   "metadata": {},
   "source": [
    "By Alpesh Vyas"
   ]
  },
  {
   "cell_type": "markdown",
   "metadata": {},
   "source": [
    "## Abstract"
   ]
  },
  {
   "cell_type": "markdown",
   "metadata": {},
   "source": [
    "In this program I use the Monte Carlo method to simulate the ferromagnetic properties of a two dimensional lattice of spins using Python.  The Ising Model has exact solutions in one dimension and two dimensions, but beyond one dimension analytical analysis becomes difficult.  Using the Monte Carlo method where an inital lattice of randomly oriented spins are flipped until the system comes to an equilibrium I am able to simulate the ferromagnetic properties at various temperatures."
   ]
  },
  {
   "cell_type": "markdown",
   "metadata": {},
   "source": [
    "## Background"
   ]
  },
  {
   "cell_type": "markdown",
   "metadata": {},
   "source": [
    "The Ising Model is a model used to describe ferromagnetism in materials.  Ferromagnetism typically occurs in a material below a critical temperature called the Curie temperature.  Above this temperature, the thermal motion of the ions dominate and the material loses its magnetization.  Below this temperature the material experiences one of three phases: ferromagnetism, ferrimagnetism and antiferromagnetism.  Ferromagnetism is the case where all the spins or magnetic moments align to form a net magnetization.  Ferrimagnetism is the case where there are some spins that are anti-aligned but where there is still a net magnetization.  Lastly, antiferromagnetism is the case where half the spins are aligned in one direction and the other half are aligned in the opposite direction so that they cancel each other to create no net magnetization. "
   ]
  },
  {
   "cell_type": "markdown",
   "metadata": {},
   "source": [
    "In its most basic sense it models the interaction between spins in a ferromagnetic material.  For a system that has $N$ sites that contain one spin magnetic moment, each site $S_ij$ can have one of two possible orientations, $S_{ij} = 1$ (spin up) or $S_{ij} = -1$ (spin down).  In a two dimensional lattice configuration each spin site has four nearest neighbors (above, below, left and right) and the Ising Model simplifies the analysis of the ferromagnet by taking into account only the interactions of directly neighboring spins.  The energy of the system is given by the equation below:"
   ]
  },
  {
   "cell_type": "markdown",
   "metadata": {},
   "source": [
    "$E = -h{\\Sum{{s_i}}} -j{\\Sum{{s_i}{s_j}}}$"
   ]
  },
  {
   "cell_type": "markdown",
   "metadata": {},
   "source": [
    "The first term is the interaction of the external magnetic field, $h$ with each individual spin.  The second term is the interaction between each neighboring spin related by a factor $j$.  If there is no external magnetic field present then the energy is simply given by the second term and only takes into account the interactions between neighboring spins.  In this simulation the external magnetic field is taken to be zero.  "
   ]
  },
  {
   "cell_type": "markdown",
   "metadata": {},
   "source": [
    "## Monte Carlo Method"
   ]
  },
  {
   "cell_type": "markdown",
   "metadata": {},
   "source": [
    "The Monte Carlo method in analyzing the Ising Model is prety straightforward.  The initial lattice system is in a state of random spin configurations.  We then choose a site on the lattice randomly and calculate the change in energy of the new configuration.  Since we are only concerned with the nearest neighbor interactions we do not need to calculate the energy of the entire system again.  We simply calculate the change in energy since we know which possible values it must take for a given spin flip."
   ]
  },
  {
   "cell_type": "markdown",
   "metadata": {},
   "source": [
    "If the change in energy is less than zero then we accept the new spin configuration.  This makes sense since the system will tend to equilibriate to the lowest energy state.  If the change in energy is greater than zero then we accept it with a probability.  Since there is still a chance that the system will go to the higher energy state (however improbable) we must take this into account.  The probability that we use is taken from statistical mechanics and is called the partition function which is given below:"
   ]
  },
  {
   "cell_type": "markdown",
   "metadata": {},
   "source": [
    "$p=e^{\\frac{-{\\Delta{E}}}{{k_B}{T}}}$"
   ]
  },
  {
   "cell_type": "markdown",
   "metadata": {},
   "source": [
    "Where ${\\Delta{E}}$ is the change in energy of the system after the spin flip, $T$ is the temperature of the system and $k_B$ is Boltzmann's constant.  In this simulation Boltzmann's constant is set to a value of 1.  In order to utilize this function we generate a random number $x$ between 0 and 1.  If we flip a spin and it ends up having a positive change in energy, we accept this new configuration only if $p>x$.  If $p$ is less than $x$ then we reject the flip and keep the old configuration. "
   ]
  },
  {
   "cell_type": "markdown",
   "metadata": {},
   "source": [
    "This process is repeated until all the spins have had a chance to flip at least once. "
   ]
  },
  {
   "cell_type": "markdown",
   "metadata": {},
   "source": [
    "## Implementation in Python"
   ]
  },
  {
   "cell_type": "code",
   "execution_count": 11,
   "metadata": {},
   "outputs": [],
   "source": [
    "from numpy import *\n",
    "from random import *\n",
    "from Tkinter import *"
   ]
  },
  {
   "cell_type": "markdown",
   "metadata": {},
   "source": [
    "The user is allowed to input the number of sites on each row of the two dimensional lattice, the width of each cell in the interface simulation and the number of Monte Carlo steps that are taken in the simulation.  Because the screen on the computer is only so large, I find that keeping the number of sites between 50 and 75 is ideal.  Similarly the width of each cell should be reasonably set.  The width is given in pixels and a width between 10 and 15 is good. Lastly the number of steps in the simulation has one main visual effect on the interface.  If the number of Monte Carlo steps are small then the spins will flip quickly on the interface simulation.  If the number of steps is large then the spins will flip more slowly on the interface."
   ]
  },
  {
   "cell_type": "code",
   "execution_count": 12,
   "metadata": {
    "slideshow": {
     "slide_type": "slide"
    }
   },
   "outputs": [
    {
     "name": "stdout",
     "output_type": "stream",
     "text": [
      "Input the number of sites in each row: 50\n",
      "Input the cell width of each site in pixels:10\n",
      "Input the number of Monte Carlo steps:10000\n"
     ]
    }
   ],
   "source": [
    "#defining constants\n",
    "kb=1.#38*10**-23 #boltzmann\n",
    "\n",
    "#user inputs\n",
    "n = input('Input the number of sites in each row: ')\n",
    "w = input('Input the cell width of each site in pixels:')\n",
    "steps = input('Input the number of Monte Carlo steps:')"
   ]
  },
  {
   "cell_type": "markdown",
   "metadata": {},
   "source": [
    "Implementing the energy function in python requires the consideration of the edges of the lattice.  Since the simulation takes into consideration the change in energy based on the neighboring spins, we have to consider the cases where the site on the lattice that is chosen has only two nearest neighbors instead of four."
   ]
  },
  {
   "cell_type": "code",
   "execution_count": 13,
   "metadata": {
    "slideshow": {
     "slide_type": "slide"
    }
   },
   "outputs": [],
   "source": [
    "#defining the change in energy function\n",
    "def deltaE(i,j):\n",
    "    if i==0:\n",
    "        left=lattice[sites-1,j] \n",
    "    else:\n",
    "        left=lattice[i-1,j]\n",
    "    if i==sites-1:\n",
    "        right=lattice[0,j]\n",
    "    else:\n",
    "        right=lattice[i+1,j]\n",
    "    if j==0:\n",
    "        above=lattice[i,sites-1]\n",
    "    else:\n",
    "        above=lattice[i,j-1]\n",
    "    if j==sites-1:\n",
    "        below=lattice[i,0]\n",
    "    else:\n",
    "        below=lattice[i,j+1]\n",
    "    return 2.0 * lattice[i,j] * (left+right+above+below)"
   ]
  },
  {
   "cell_type": "markdown",
   "metadata": {},
   "source": [
    "There are a few ways to do visualizations with python such as VPython and the Tkinter module.  VPython requires a separate download and seems to be better for 3D visualizations.  Since Tkinter is already a module that is available in python by importing it, I found it easier.  In many respects Tkinter reminds me of matplotlib when trying to make plots. "
   ]
  },
  {
   "cell_type": "markdown",
   "metadata": {},
   "source": [
    "The pixel function below simply looks at a site and assigns it one of two colors.  If the spin at that site is 1 (spin up) then the color assigned is green.  If the spin is equal to -1 (spin down) then the color is grey.  The last line of code in the block below colors in the corresponding pixels on the interface."
   ]
  },
  {
   "cell_type": "code",
   "execution_count": 14,
   "metadata": {},
   "outputs": [],
   "source": [
    "#defining a function that will assign a color to the pixel on the user interface for the corresponding site\n",
    "def pixel(i,j):\n",
    "    if lattice[i,j]==1:\n",
    "        pixel = \"#2a623d\" #slytherin green = spin up\n",
    "    else:\n",
    "        pixel = \"#aaaaaa\" #slytherin grey = spin down\n",
    "        \n",
    "    image.put(pixel, to=(i*sitewidth,j*sitewidth,(i+1)*sitewidth,(j+1)*sitewidth))#colors the corresponding pixel in the image\n"
   ]
  },
  {
   "cell_type": "markdown",
   "metadata": {},
   "source": [
    "Below is the main Monte Carlo loop.  The code runs through this loop only if the interface is running the simulation. The temperature can be adjusted on the interface (see code further below) and this loop first obtains that temperature.  Then the loop chooses a site at random, it calculates the change in energy by calling the energy function and if that change is less than or equal to zero it flips the spin. If it is greater than zero it flips the spin with a probability. The loop then adjusts the color on the interface."
   ]
  },
  {
   "cell_type": "code",
   "execution_count": 15,
   "metadata": {},
   "outputs": [],
   "source": [
    "#monte carlo loop\n",
    "def montecarlo():\n",
    "    if running:\n",
    "        T = tempscale.get()#gets the temperature from the interface\n",
    "        for step in range(steps):#user defines the number of monte carlo steps\n",
    "            i = int(random()*sites)#choosing a random row and column\n",
    "            j = int(random()*sites)\n",
    "            x=round(uniform(0.,1.),10)#choosing a random number between 0 and 1\n",
    "            p=exp(-deltaE(i,j)/(kb*T))#partition function\n",
    "            if deltaE(i,j)<=0:#this flips the spins if the change in energy is less than zero\n",
    "                lattice[i,j] = -lattice[i,j]\n",
    "            elif p>x:#if energy is greater than zero, flip the spins only if p is greater than x\n",
    "                lattice[i,j] = -lattice[i,j]\n",
    "                pixel(i, j)#calls the pixel function\n",
    "    window.after(1,montecarlo) #comes back in one ms"
   ]
  },
  {
   "cell_type": "code",
   "execution_count": 16,
   "metadata": {},
   "outputs": [
    {
     "data": {
      "text/plain": [
       "1"
      ]
     },
     "execution_count": 16,
     "metadata": {},
     "output_type": "execute_result"
    }
   ],
   "source": [
    "sites=n#number of sites in each row\n",
    "#creating a 2D lattice\n",
    "lattice = zeros((sites, sites), int)\n",
    "sitewidth=w#width of each site\n",
    "canvaswidth=sites * sitewidth#width of canvas\n",
    "running=False\n",
    "\n",
    "window=Tk()\n",
    "window.title(\"Simulation of the Ising Model\")\n",
    "window.geometry('+50+50')\n",
    "\n",
    "#creating the canvas to simulate the phase transitions\n",
    "canvas = Canvas(window, width=canvaswidth, height=canvaswidth)\n",
    "canvas.pack()\n",
    "image = PhotoImage(width=canvaswidth, height=canvaswidth)\n",
    "canvas.create_image((3, 3), image=image, anchor=\"nw\", state=\"normal\")"
   ]
  },
  {
   "cell_type": "code",
   "execution_count": 17,
   "metadata": {},
   "outputs": [],
   "source": [
    "#defining a function that stops and starts the simultation on the interface\n",
    "def startandstop():\n",
    "    global running\n",
    "    running = not running\n",
    "    if running:\n",
    "        startbutton.config(text=\"stop\")\n",
    "    else:\n",
    "        startbutton.config(text=\"start\")"
   ]
  },
  {
   "cell_type": "markdown",
   "metadata": {},
   "source": [
    "Below are the main Tkinter commands.  "
   ]
  },
  {
   "cell_type": "code",
   "execution_count": 18,
   "metadata": {},
   "outputs": [],
   "source": [
    "#this is like the Tkinter equivalent of making graphs in matplotlib\n",
    "#I had to look up how to do pretty much everything in this section\n",
    "controlFrame = Frame(window)#creates a frame for everything\n",
    "controlFrame.pack()\n",
    "tempscale = Scale(controlFrame, from_=0.01, to=10., resolution=0.01, length=300, orient=\"horizontal\")\n",
    "tempscale.pack(side=\"left\")\n",
    "tempscale.set(2.3)#this is the curie temperature of the ising model\n",
    "templabel = Label(controlFrame, text=\"temperature:\")\n",
    "templabel.pack(side=\"left\")\n",
    "spacer = Frame(controlFrame, width=40)\n",
    "spacer.pack(side=\"left\")\n",
    "startbutton = Button(controlFrame, text=\"start\", width=8, command=startandstop)\n",
    "startbutton.pack(side=\"left\")"
   ]
  },
  {
   "cell_type": "markdown",
   "metadata": {},
   "source": [
    "The last few blocks contain the actual commands that run the code. First a random lattice of spins is created. Then the Monte Carlo function is run followed by the user interface function. "
   ]
  },
  {
   "cell_type": "code",
   "execution_count": 19,
   "metadata": {},
   "outputs": [],
   "source": [
    "spins=[-1,1]\n",
    "#loop that creates a random lattice of spins\n",
    "for i in range(sites):\n",
    "    for j in range(sites):\n",
    "        lattice[i,j]=choice(spins)\n",
    "        pixel(i,j)#calls pixel function to color lattice accordingly"
   ]
  },
  {
   "cell_type": "code",
   "execution_count": 20,
   "metadata": {},
   "outputs": [],
   "source": [
    "montecarlo()#runs the monte carlo loop\n",
    "window.mainloop()#runs the interface that simulates the lattice"
   ]
  },
  {
   "cell_type": "markdown",
   "metadata": {},
   "source": [
    "## Results"
   ]
  },
  {
   "cell_type": "markdown",
   "metadata": {},
   "source": [
    "The literature value of the Curie temperature for the Ising Model is roughly T = 2.7 and we can see in the simulation that below this temperature the lattice starts to experience phase transitions where larger regions are aligned either up or down.  Eventually at lower temperatures the lattice becomes completely ferromagnetic and has all the spins aligned in one direction. At higher temperatures above the Curie temperature the thermal motion of the sites become dominant and the lattice systtem loses its magnetization.  This is what is expected from the analysis of the Ising Model. "
   ]
  },
  {
   "cell_type": "markdown",
   "metadata": {},
   "source": [
    "Possible extensions of this project include the calculation of other parameters relevant to the subject.  Also, 3D simulations can be done based off of this.  However for a 3D simulation a different module may be necessary such as VPython. "
   ]
  }
 ],
 "metadata": {
  "kernelspec": {
   "display_name": "Python 3",
   "language": "python",
   "name": "python3"
  },
  "language_info": {
   "codemirror_mode": {
    "name": "ipython",
    "version": 3
   },
   "file_extension": ".py",
   "mimetype": "text/x-python",
   "name": "python",
   "nbconvert_exporter": "python",
   "pygments_lexer": "ipython3",
   "version": "3.8.3"
  }
 },
 "nbformat": 4,
 "nbformat_minor": 1
}
